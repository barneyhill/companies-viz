{
 "cells": [
  {
   "cell_type": "code",
   "execution_count": 1,
   "id": "80f93147",
   "metadata": {},
   "outputs": [],
   "source": [
    "import pandas as pd\n",
    "import polars as pl\n",
    "import json\n",
    "import time\n",
    "from sqlalchemy import create_engine"
   ]
  },
  {
   "cell_type": "code",
   "execution_count": null,
   "id": "a6bc793e",
   "metadata": {},
   "outputs": [],
   "source": [
    "def read_psc(file, column_to_normalize='data'):\n",
    "    # Read the JSON file\n",
    "    psc_df = pd.read_json(file, lines=True)\n",
    "    print(psc_df)\n",
    "\n",
    "    # Flatten the nested JSON within the specified column\n",
    "    data_flattened = pd.json_normalize(psc_df[column_to_normalize])\n",
    "\n",
    "    # Drop the original nested column and join with the flattened data\n",
    "    psc_df = psc_df.drop(column_to_normalize, axis=1).join(data_flattened)\n",
    "\n",
    "    return psc_df\n",
    "\n",
    "read_psc(\"data/persons-with-significant-control-snapshot-2023-08-05.txt\").to_csv(\"data/persons-with-significant-control-snapshot-2023-08-05.csv)"
   ]
  },
  {
   "cell_type": "code",
   "execution_count": 2,
   "id": "393b0c3c",
   "metadata": {},
   "outputs": [],
   "source": [
    "psc_df = pl.read_csv(\"data/persons-with-significant-control-snapshot-2023-08-05.csv\")"
   ]
  },
  {
   "cell_type": "code",
   "execution_count": 3,
   "id": "c5536b40",
   "metadata": {},
   "outputs": [],
   "source": [
    "comp_df = pl.read_csv(\"data/BasicCompanyDataAsOneFile-2023-08-01.csv\")"
   ]
  },
  {
   "cell_type": "code",
   "execution_count": 4,
   "id": "84228a60",
   "metadata": {},
   "outputs": [],
   "source": [
    "comp_df = comp_df.rename({\" CompanyNumber\": \"company_number\"})"
   ]
  },
  {
   "cell_type": "code",
   "execution_count": 5,
   "id": "0ef87b7f",
   "metadata": {},
   "outputs": [
    {
     "data": {
      "text/html": [
       "<div><style>\n",
       ".dataframe > thead > tr > th,\n",
       ".dataframe > tbody > tr > td {\n",
       "  text-align: right;\n",
       "}\n",
       "</style>\n",
       "<small>shape: (5_381_225, 55)</small><table border=\"1\" class=\"dataframe\"><thead><tr><th>CompanyName</th><th>company_number</th><th>RegAddress.CareOf</th><th>RegAddress.POBox</th><th>RegAddress.AddressLine1</th><th> RegAddress.AddressLine2</th><th>RegAddress.PostTown</th><th>RegAddress.County</th><th>RegAddress.Country</th><th>RegAddress.PostCode</th><th>CompanyCategory</th><th>CompanyStatus</th><th>CountryOfOrigin</th><th>DissolutionDate</th><th>IncorporationDate</th><th>Accounts.AccountRefDay</th><th>Accounts.AccountRefMonth</th><th>Accounts.NextDueDate</th><th>Accounts.LastMadeUpDate</th><th>Accounts.AccountCategory</th><th>Returns.NextDueDate</th><th>Returns.LastMadeUpDate</th><th>Mortgages.NumMortCharges</th><th>Mortgages.NumMortOutstanding</th><th>Mortgages.NumMortPartSatisfied</th><th>Mortgages.NumMortSatisfied</th><th>SICCode.SicText_1</th><th>SICCode.SicText_2</th><th>SICCode.SicText_3</th><th>SICCode.SicText_4</th><th>LimitedPartnerships.NumGenPartners</th><th>LimitedPartnerships.NumLimPartners</th><th>URI</th><th>PreviousName_1.CONDATE</th><th> PreviousName_1.CompanyName</th><th> PreviousName_2.CONDATE</th><th> PreviousName_2.CompanyName</th><th>PreviousName_3.CONDATE</th><th> PreviousName_3.CompanyName</th><th>PreviousName_4.CONDATE</th><th> PreviousName_4.CompanyName</th><th>PreviousName_5.CONDATE</th><th> PreviousName_5.CompanyName</th><th>PreviousName_6.CONDATE</th><th> PreviousName_6.CompanyName</th><th>PreviousName_7.CONDATE</th><th> PreviousName_7.CompanyName</th><th>PreviousName_8.CONDATE</th><th> PreviousName_8.CompanyName</th><th>PreviousName_9.CONDATE</th><th> PreviousName_9.CompanyName</th><th>PreviousName_10.CONDATE</th><th> PreviousName_10.CompanyName</th><th>ConfStmtNextDueDate</th><th> ConfStmtLastMadeUpDate</th></tr><tr><td>str</td><td>str</td><td>str</td><td>str</td><td>str</td><td>str</td><td>str</td><td>str</td><td>str</td><td>str</td><td>str</td><td>str</td><td>str</td><td>str</td><td>str</td><td>str</td><td>str</td><td>str</td><td>str</td><td>str</td><td>str</td><td>str</td><td>i64</td><td>i64</td><td>i64</td><td>i64</td><td>str</td><td>str</td><td>str</td><td>str</td><td>i64</td><td>i64</td><td>str</td><td>str</td><td>str</td><td>str</td><td>str</td><td>str</td><td>str</td><td>str</td><td>str</td><td>str</td><td>str</td><td>str</td><td>str</td><td>str</td><td>str</td><td>str</td><td>str</td><td>str</td><td>str</td><td>str</td><td>str</td><td>str</td><td>str</td></tr></thead><tbody><tr><td>&quot;! HEAL UR TECH…</td><td>&quot;14413082&quot;</td><td>&quot;&quot;</td><td>&quot;&quot;</td><td>&quot;5 BRIDGE STREE…</td><td>&quot;&quot;</td><td>&quot;GUILDFORD&quot;</td><td>&quot;&quot;</td><td>&quot;ENGLAND&quot;</td><td>&quot;GU1 4RY&quot;</td><td>&quot;PRI/LTD BY GUA…</td><td>&quot;Active&quot;</td><td>&quot;United Kingdom…</td><td>&quot;&quot;</td><td>&quot;12/10/2022&quot;</td><td>&quot;31&quot;</td><td>&quot;10&quot;</td><td>&quot;12/07/2024&quot;</td><td>&quot;&quot;</td><td>&quot;NO ACCOUNTS FI…</td><td>&quot;09/11/2023&quot;</td><td>&quot;&quot;</td><td>0</td><td>0</td><td>0</td><td>0</td><td>&quot;33140 - Repair…</td><td>&quot;47421 - Retail…</td><td>&quot;&quot;</td><td>&quot;&quot;</td><td>0</td><td>0</td><td>&quot;http://busines…</td><td>&quot;&quot;</td><td>&quot;&quot;</td><td>&quot;&quot;</td><td>&quot;&quot;</td><td>&quot;&quot;</td><td>&quot;&quot;</td><td>&quot;&quot;</td><td>&quot;&quot;</td><td>&quot;&quot;</td><td>&quot;&quot;</td><td>&quot;&quot;</td><td>&quot;&quot;</td><td>&quot;&quot;</td><td>&quot;&quot;</td><td>&quot;&quot;</td><td>&quot;&quot;</td><td>&quot;&quot;</td><td>&quot;&quot;</td><td>&quot;&quot;</td><td>&quot;&quot;</td><td>&quot;25/10/2023&quot;</td><td>&quot;&quot;</td></tr><tr><td>&quot;! LTD&quot;</td><td>&quot;08209948&quot;</td><td>&quot;&quot;</td><td>&quot;&quot;</td><td>&quot;9 PRINCES SQUA…</td><td>&quot;&quot;</td><td>&quot;HARROGATE&quot;</td><td>&quot;&quot;</td><td>&quot;ENGLAND&quot;</td><td>&quot;HG1 1ND&quot;</td><td>&quot;Private Limite…</td><td>&quot;Active&quot;</td><td>&quot;United Kingdom…</td><td>&quot;&quot;</td><td>&quot;11/09/2012&quot;</td><td>&quot;30&quot;</td><td>&quot;9&quot;</td><td>&quot;30/06/2024&quot;</td><td>&quot;30/09/2022&quot;</td><td>&quot;DORMANT&quot;</td><td>&quot;09/10/2016&quot;</td><td>&quot;11/09/2015&quot;</td><td>0</td><td>0</td><td>0</td><td>0</td><td>&quot;99999 - Dorman…</td><td>&quot;&quot;</td><td>&quot;&quot;</td><td>&quot;&quot;</td><td>0</td><td>0</td><td>&quot;http://busines…</td><td>&quot;&quot;</td><td>&quot;&quot;</td><td>&quot;&quot;</td><td>&quot;&quot;</td><td>&quot;&quot;</td><td>&quot;&quot;</td><td>&quot;&quot;</td><td>&quot;&quot;</td><td>&quot;&quot;</td><td>&quot;&quot;</td><td>&quot;&quot;</td><td>&quot;&quot;</td><td>&quot;&quot;</td><td>&quot;&quot;</td><td>&quot;&quot;</td><td>&quot;&quot;</td><td>&quot;&quot;</td><td>&quot;&quot;</td><td>&quot;&quot;</td><td>&quot;&quot;</td><td>&quot;25/09/2023&quot;</td><td>&quot;11/09/2022&quot;</td></tr><tr><td>&quot;!? LTD&quot;</td><td>&quot;11399177&quot;</td><td>&quot;&quot;</td><td>&quot;&quot;</td><td>&quot;THE STUDIO HAT…</td><td>&quot;HATHERLOW&quot;</td><td>&quot;ROMILEY&quot;</td><td>&quot;&quot;</td><td>&quot;UNITED KINGDOM…</td><td>&quot;SK6 3DY&quot;</td><td>&quot;Private Limite…</td><td>&quot;Active&quot;</td><td>&quot;United Kingdom…</td><td>&quot;&quot;</td><td>&quot;05/06/2018&quot;</td><td>&quot;30&quot;</td><td>&quot;6&quot;</td><td>&quot;31/03/2024&quot;</td><td>&quot;30/06/2022&quot;</td><td>&quot;TOTAL EXEMPTIO…</td><td>&quot;03/07/2019&quot;</td><td>&quot;&quot;</td><td>0</td><td>0</td><td>0</td><td>0</td><td>&quot;47710 - Retail…</td><td>&quot;&quot;</td><td>&quot;&quot;</td><td>&quot;&quot;</td><td>0</td><td>0</td><td>&quot;http://busines…</td><td>&quot;&quot;</td><td>&quot;&quot;</td><td>&quot;&quot;</td><td>&quot;&quot;</td><td>&quot;&quot;</td><td>&quot;&quot;</td><td>&quot;&quot;</td><td>&quot;&quot;</td><td>&quot;&quot;</td><td>&quot;&quot;</td><td>&quot;&quot;</td><td>&quot;&quot;</td><td>&quot;&quot;</td><td>&quot;&quot;</td><td>&quot;&quot;</td><td>&quot;&quot;</td><td>&quot;&quot;</td><td>&quot;&quot;</td><td>&quot;&quot;</td><td>&quot;&quot;</td><td>&quot;19/06/2024&quot;</td><td>&quot;05/06/2023&quot;</td></tr><tr><td>&quot;!BIG IMPACT GR…</td><td>&quot;11743365&quot;</td><td>&quot;&quot;</td><td>&quot;&quot;</td><td>&quot;372 OLD STREET…</td><td>&quot;335 ROSDEN HOU…</td><td>&quot;LONDON&quot;</td><td>&quot;&quot;</td><td>&quot;UNITED KINGDOM…</td><td>&quot;EC1V 9LT&quot;</td><td>&quot;Private Limite…</td><td>&quot;Active&quot;</td><td>&quot;United Kingdom…</td><td>&quot;&quot;</td><td>&quot;28/12/2018&quot;</td><td>&quot;31&quot;</td><td>&quot;12&quot;</td><td>&quot;30/09/2023&quot;</td><td>&quot;31/12/2021&quot;</td><td>&quot;DORMANT&quot;</td><td>&quot;25/01/2020&quot;</td><td>&quot;&quot;</td><td>0</td><td>0</td><td>0</td><td>0</td><td>&quot;18129 - Printi…</td><td>&quot;59112 - Video …</td><td>&quot;63120 - Web po…</td><td>&quot;74201 - Portra…</td><td>0</td><td>0</td><td>&quot;http://busines…</td><td>&quot;&quot;</td><td>&quot;&quot;</td><td>&quot;&quot;</td><td>&quot;&quot;</td><td>&quot;&quot;</td><td>&quot;&quot;</td><td>&quot;&quot;</td><td>&quot;&quot;</td><td>&quot;&quot;</td><td>&quot;&quot;</td><td>&quot;&quot;</td><td>&quot;&quot;</td><td>&quot;&quot;</td><td>&quot;&quot;</td><td>&quot;&quot;</td><td>&quot;&quot;</td><td>&quot;&quot;</td><td>&quot;&quot;</td><td>&quot;&quot;</td><td>&quot;&quot;</td><td>&quot;10/01/2024&quot;</td><td>&quot;27/12/2022&quot;</td></tr><tr><td>&quot;!GOBERUB LTD&quot;</td><td>&quot;13404790&quot;</td><td>&quot;&quot;</td><td>&quot;&quot;</td><td>&quot;13 SOUTHMILL R…</td><td>&quot;&quot;</td><td>&quot;BISHOP&#x27;S STORT…</td><td>&quot;HERTFORDSHIRE&quot;</td><td>&quot;ENGLAND&quot;</td><td>&quot;CM23 3FR&quot;</td><td>&quot;Private Limite…</td><td>&quot;Active&quot;</td><td>&quot;United Kingdom…</td><td>&quot;&quot;</td><td>&quot;17/05/2021&quot;</td><td>&quot;30&quot;</td><td>&quot;9&quot;</td><td>&quot;30/06/2024&quot;</td><td>&quot;30/09/2022&quot;</td><td>&quot;MICRO ENTITY&quot;</td><td>&quot;14/06/2022&quot;</td><td>&quot;&quot;</td><td>0</td><td>0</td><td>0</td><td>0</td><td>&quot;62020 - Inform…</td><td>&quot;70229 - Manage…</td><td>&quot;79110 - Travel…</td><td>&quot;&quot;</td><td>0</td><td>0</td><td>&quot;http://busines…</td><td>&quot;&quot;</td><td>&quot;&quot;</td><td>&quot;&quot;</td><td>&quot;&quot;</td><td>&quot;&quot;</td><td>&quot;&quot;</td><td>&quot;&quot;</td><td>&quot;&quot;</td><td>&quot;&quot;</td><td>&quot;&quot;</td><td>&quot;&quot;</td><td>&quot;&quot;</td><td>&quot;&quot;</td><td>&quot;&quot;</td><td>&quot;&quot;</td><td>&quot;&quot;</td><td>&quot;&quot;</td><td>&quot;&quot;</td><td>&quot;&quot;</td><td>&quot;&quot;</td><td>&quot;29/05/2024&quot;</td><td>&quot;15/05/2023&quot;</td></tr><tr><td>&quot;!NFOGENIE LTD&quot;</td><td>&quot;13522064&quot;</td><td>&quot;&quot;</td><td>&quot;&quot;</td><td>&quot;71-75 SHELTON …</td><td>&quot;&quot;</td><td>&quot;LONDON&quot;</td><td>&quot;GREATER LONDON…</td><td>&quot;UNITED KINGDOM…</td><td>&quot;WC2H 9JQ&quot;</td><td>&quot;Private Limite…</td><td>&quot;Active&quot;</td><td>&quot;United Kingdom…</td><td>&quot;&quot;</td><td>&quot;21/07/2021&quot;</td><td>&quot;31&quot;</td><td>&quot;7&quot;</td><td>&quot;30/04/2025&quot;</td><td>&quot;31/07/2023&quot;</td><td>&quot;MICRO ENTITY&quot;</td><td>&quot;18/08/2022&quot;</td><td>&quot;&quot;</td><td>0</td><td>0</td><td>0</td><td>0</td><td>&quot;58290 - Other …</td><td>&quot;&quot;</td><td>&quot;&quot;</td><td>&quot;&quot;</td><td>0</td><td>0</td><td>&quot;http://busines…</td><td>&quot;&quot;</td><td>&quot;&quot;</td><td>&quot;&quot;</td><td>&quot;&quot;</td><td>&quot;&quot;</td><td>&quot;&quot;</td><td>&quot;&quot;</td><td>&quot;&quot;</td><td>&quot;&quot;</td><td>&quot;&quot;</td><td>&quot;&quot;</td><td>&quot;&quot;</td><td>&quot;&quot;</td><td>&quot;&quot;</td><td>&quot;&quot;</td><td>&quot;&quot;</td><td>&quot;&quot;</td><td>&quot;&quot;</td><td>&quot;&quot;</td><td>&quot;&quot;</td><td>&quot;03/08/2024&quot;</td><td>&quot;20/07/2023&quot;</td></tr><tr><td>&quot;!NNOV8 LIMITED…</td><td>&quot;11006939&quot;</td><td>&quot;&quot;</td><td>&quot;&quot;</td><td>&quot;OLD BARN FARM&quot;</td><td>&quot;HARTFIELD ROAD…</td><td>&quot;EDENBRIDGE&quot;</td><td>&quot;&quot;</td><td>&quot;ENGLAND&quot;</td><td>&quot;TN8 5NF&quot;</td><td>&quot;Private Limite…</td><td>&quot;Active&quot;</td><td>&quot;United Kingdom…</td><td>&quot;&quot;</td><td>&quot;11/10/2017&quot;</td><td>&quot;31&quot;</td><td>&quot;3&quot;</td><td>&quot;31/12/2023&quot;</td><td>&quot;31/03/2022&quot;</td><td>&quot;MICRO ENTITY&quot;</td><td>&quot;08/11/2018&quot;</td><td>&quot;&quot;</td><td>0</td><td>0</td><td>0</td><td>0</td><td>&quot;62090 - Other …</td><td>&quot;70229 - Manage…</td><td>&quot;&quot;</td><td>&quot;&quot;</td><td>0</td><td>0</td><td>&quot;http://busines…</td><td>&quot;&quot;</td><td>&quot;&quot;</td><td>&quot;&quot;</td><td>&quot;&quot;</td><td>&quot;&quot;</td><td>&quot;&quot;</td><td>&quot;&quot;</td><td>&quot;&quot;</td><td>&quot;&quot;</td><td>&quot;&quot;</td><td>&quot;&quot;</td><td>&quot;&quot;</td><td>&quot;&quot;</td><td>&quot;&quot;</td><td>&quot;&quot;</td><td>&quot;&quot;</td><td>&quot;&quot;</td><td>&quot;&quot;</td><td>&quot;&quot;</td><td>&quot;&quot;</td><td>&quot;24/10/2023&quot;</td><td>&quot;10/10/2022&quot;</td></tr><tr><td>&quot;!NSPIRED INVES…</td><td>&quot;SC606050&quot;</td><td>&quot;&quot;</td><td>&quot;&quot;</td><td>&quot;26 POLMUIR ROA…</td><td>&quot;&quot;</td><td>&quot;ABERDEEN&quot;</td><td>&quot;&quot;</td><td>&quot;SCOTLAND&quot;</td><td>&quot;AB11 7SY&quot;</td><td>&quot;Private Limite…</td><td>&quot;Active&quot;</td><td>&quot;United Kingdom…</td><td>&quot;&quot;</td><td>&quot;22/08/2018&quot;</td><td>&quot;31&quot;</td><td>&quot;8&quot;</td><td>&quot;31/05/2024&quot;</td><td>&quot;31/08/2022&quot;</td><td>&quot;TOTAL EXEMPTIO…</td><td>&quot;19/09/2019&quot;</td><td>&quot;&quot;</td><td>5</td><td>5</td><td>0</td><td>0</td><td>&quot;68209 - Other …</td><td>&quot;&quot;</td><td>&quot;&quot;</td><td>&quot;&quot;</td><td>0</td><td>0</td><td>&quot;http://busines…</td><td>&quot;&quot;</td><td>&quot;&quot;</td><td>&quot;&quot;</td><td>&quot;&quot;</td><td>&quot;&quot;</td><td>&quot;&quot;</td><td>&quot;&quot;</td><td>&quot;&quot;</td><td>&quot;&quot;</td><td>&quot;&quot;</td><td>&quot;&quot;</td><td>&quot;&quot;</td><td>&quot;&quot;</td><td>&quot;&quot;</td><td>&quot;&quot;</td><td>&quot;&quot;</td><td>&quot;&quot;</td><td>&quot;&quot;</td><td>&quot;&quot;</td><td>&quot;&quot;</td><td>&quot;12/02/2024&quot;</td><td>&quot;29/01/2023&quot;</td></tr><tr><td>&quot;!NSPIRED LTD&quot;</td><td>&quot;SC421617&quot;</td><td>&quot;&quot;</td><td>&quot;&quot;</td><td>&quot;26 POLMUIR ROA…</td><td>&quot;&quot;</td><td>&quot;ABERDEEN&quot;</td><td>&quot;&quot;</td><td>&quot;UNITED KINGDOM…</td><td>&quot;AB11 7SY&quot;</td><td>&quot;Private Limite…</td><td>&quot;Liquidation&quot;</td><td>&quot;United Kingdom…</td><td>&quot;&quot;</td><td>&quot;11/04/2012&quot;</td><td>&quot;10&quot;</td><td>&quot;1&quot;</td><td>&quot;10/10/2023&quot;</td><td>&quot;10/01/2022&quot;</td><td>&quot;TOTAL EXEMPTIO…</td><td>&quot;09/05/2017&quot;</td><td>&quot;11/04/2016&quot;</td><td>0</td><td>0</td><td>0</td><td>0</td><td>&quot;70229 - Manage…</td><td>&quot;&quot;</td><td>&quot;&quot;</td><td>&quot;&quot;</td><td>0</td><td>0</td><td>&quot;http://busines…</td><td>&quot;&quot;</td><td>&quot;&quot;</td><td>&quot;&quot;</td><td>&quot;&quot;</td><td>&quot;&quot;</td><td>&quot;&quot;</td><td>&quot;&quot;</td><td>&quot;&quot;</td><td>&quot;&quot;</td><td>&quot;&quot;</td><td>&quot;&quot;</td><td>&quot;&quot;</td><td>&quot;&quot;</td><td>&quot;&quot;</td><td>&quot;&quot;</td><td>&quot;&quot;</td><td>&quot;&quot;</td><td>&quot;&quot;</td><td>&quot;&quot;</td><td>&quot;&quot;</td><td>&quot;25/04/2022&quot;</td><td>&quot;11/04/2021&quot;</td></tr><tr><td>&quot;!NVERTD DESIGN…</td><td>&quot;09152972&quot;</td><td>&quot;&quot;</td><td>&quot;&quot;</td><td>&quot;2 SANDROCKS LO…</td><td>&quot;ROCKY LANE&quot;</td><td>&quot;HAYWARDS HEATH…</td><td>&quot;&quot;</td><td>&quot;ENGLAND&quot;</td><td>&quot;RH16 4RW&quot;</td><td>&quot;Private Limite…</td><td>&quot;Active&quot;</td><td>&quot;United Kingdom…</td><td>&quot;&quot;</td><td>&quot;30/07/2014&quot;</td><td>&quot;31&quot;</td><td>&quot;7&quot;</td><td>&quot;30/04/2024&quot;</td><td>&quot;31/07/2022&quot;</td><td>&quot;MICRO ENTITY&quot;</td><td>&quot;27/08/2016&quot;</td><td>&quot;30/07/2015&quot;</td><td>0</td><td>0</td><td>0</td><td>0</td><td>&quot;58190 - Other …</td><td>&quot;&quot;</td><td>&quot;&quot;</td><td>&quot;&quot;</td><td>0</td><td>0</td><td>&quot;http://busines…</td><td>&quot;&quot;</td><td>&quot;&quot;</td><td>&quot;&quot;</td><td>&quot;&quot;</td><td>&quot;&quot;</td><td>&quot;&quot;</td><td>&quot;&quot;</td><td>&quot;&quot;</td><td>&quot;&quot;</td><td>&quot;&quot;</td><td>&quot;&quot;</td><td>&quot;&quot;</td><td>&quot;&quot;</td><td>&quot;&quot;</td><td>&quot;&quot;</td><td>&quot;&quot;</td><td>&quot;&quot;</td><td>&quot;&quot;</td><td>&quot;&quot;</td><td>&quot;&quot;</td><td>&quot;13/08/2023&quot;</td><td>&quot;30/07/2022&quot;</td></tr><tr><td>&quot;!OBAC LIMITED&quot;</td><td>&quot;FC031362&quot;</td><td>&quot;&quot;</td><td>&quot;&quot;</td><td>&quot;1ST AND 2ND FL…</td><td>&quot;LES RUETIES BR…</td><td>&quot;ST PETER PORT&quot;</td><td>&quot;GUERNSEY&quot;</td><td>&quot;GUERNSEY&quot;</td><td>&quot;GY1 1EW&quot;</td><td>&quot;Other company …</td><td>&quot;Active&quot;</td><td>&quot;CHANNEL ISLAND…</td><td>&quot;&quot;</td><td>&quot;30/11/2012&quot;</td><td>&quot;31&quot;</td><td>&quot;12&quot;</td><td>&quot;&quot;</td><td>&quot;31/12/2021&quot;</td><td>&quot;FULL&quot;</td><td>&quot;&quot;</td><td>&quot;&quot;</td><td>0</td><td>0</td><td>0</td><td>0</td><td>&quot;None Supplied&quot;</td><td>&quot;&quot;</td><td>&quot;&quot;</td><td>&quot;&quot;</td><td>0</td><td>0</td><td>&quot;http://busines…</td><td>&quot;&quot;</td><td>&quot;&quot;</td><td>&quot;&quot;</td><td>&quot;&quot;</td><td>&quot;&quot;</td><td>&quot;&quot;</td><td>&quot;&quot;</td><td>&quot;&quot;</td><td>&quot;&quot;</td><td>&quot;&quot;</td><td>&quot;&quot;</td><td>&quot;&quot;</td><td>&quot;&quot;</td><td>&quot;&quot;</td><td>&quot;&quot;</td><td>&quot;&quot;</td><td>&quot;&quot;</td><td>&quot;&quot;</td><td>&quot;&quot;</td><td>&quot;&quot;</td><td>&quot;14/12/2016&quot;</td><td>&quot;&quot;</td></tr><tr><td>&quot;!OBAC UK LIMIT…</td><td>&quot;07687209&quot;</td><td>&quot;&quot;</td><td>&quot;&quot;</td><td>&quot;UNIT 9   BERRY…</td><td>&quot;LITTLE LONDON&quot;</td><td>&quot;TADLEY&quot;</td><td>&quot;HAMPSHIRE&quot;</td><td>&quot;&quot;</td><td>&quot;RG26 5AT&quot;</td><td>&quot;Private Limite…</td><td>&quot;Active&quot;</td><td>&quot;United Kingdom…</td><td>&quot;&quot;</td><td>&quot;29/06/2011&quot;</td><td>&quot;29&quot;</td><td>&quot;12&quot;</td><td>&quot;29/09/2023&quot;</td><td>&quot;31/12/2021&quot;</td><td>&quot;TOTAL EXEMPTIO…</td><td>&quot;27/07/2017&quot;</td><td>&quot;29/06/2016&quot;</td><td>1</td><td>0</td><td>0</td><td>1</td><td>&quot;70229 - Manage…</td><td>&quot;&quot;</td><td>&quot;&quot;</td><td>&quot;&quot;</td><td>0</td><td>0</td><td>&quot;http://busines…</td><td>&quot;15/07/2011&quot;</td><td>&quot;!OBAC FITTINGS…</td><td>&quot;&quot;</td><td>&quot;&quot;</td><td>&quot;&quot;</td><td>&quot;&quot;</td><td>&quot;&quot;</td><td>&quot;&quot;</td><td>&quot;&quot;</td><td>&quot;&quot;</td><td>&quot;&quot;</td><td>&quot;&quot;</td><td>&quot;&quot;</td><td>&quot;&quot;</td><td>&quot;&quot;</td><td>&quot;&quot;</td><td>&quot;&quot;</td><td>&quot;&quot;</td><td>&quot;&quot;</td><td>&quot;&quot;</td><td>&quot;13/07/2024&quot;</td><td>&quot;29/06/2023&quot;</td></tr><tr><td>&hellip;</td><td>&hellip;</td><td>&hellip;</td><td>&hellip;</td><td>&hellip;</td><td>&hellip;</td><td>&hellip;</td><td>&hellip;</td><td>&hellip;</td><td>&hellip;</td><td>&hellip;</td><td>&hellip;</td><td>&hellip;</td><td>&hellip;</td><td>&hellip;</td><td>&hellip;</td><td>&hellip;</td><td>&hellip;</td><td>&hellip;</td><td>&hellip;</td><td>&hellip;</td><td>&hellip;</td><td>&hellip;</td><td>&hellip;</td><td>&hellip;</td><td>&hellip;</td><td>&hellip;</td><td>&hellip;</td><td>&hellip;</td><td>&hellip;</td><td>&hellip;</td><td>&hellip;</td><td>&hellip;</td><td>&hellip;</td><td>&hellip;</td><td>&hellip;</td><td>&hellip;</td><td>&hellip;</td><td>&hellip;</td><td>&hellip;</td><td>&hellip;</td><td>&hellip;</td><td>&hellip;</td><td>&hellip;</td><td>&hellip;</td><td>&hellip;</td><td>&hellip;</td><td>&hellip;</td><td>&hellip;</td><td>&hellip;</td><td>&hellip;</td><td>&hellip;</td><td>&hellip;</td><td>&hellip;</td><td>&hellip;</td></tr><tr><td>&quot;`?GHANA HEALTH…</td><td>&quot;14740672&quot;</td><td>&quot;&quot;</td><td>&quot;&quot;</td><td>&quot;41 HAWLEYS LAN…</td><td>&quot;&quot;</td><td>&quot;WARRINGTON&quot;</td><td>&quot;&quot;</td><td>&quot;ENGLAND&quot;</td><td>&quot;WA5 0EQ&quot;</td><td>&quot;Community Inte…</td><td>&quot;Active&quot;</td><td>&quot;United Kingdom…</td><td>&quot;&quot;</td><td>&quot;20/03/2023&quot;</td><td>&quot;31&quot;</td><td>&quot;3&quot;</td><td>&quot;20/12/2024&quot;</td><td>&quot;&quot;</td><td>&quot;NO ACCOUNTS FI…</td><td>&quot;17/04/2024&quot;</td><td>&quot;&quot;</td><td>0</td><td>0</td><td>0</td><td>0</td><td>&quot;86900 - Other …</td><td>&quot;&quot;</td><td>&quot;&quot;</td><td>&quot;&quot;</td><td>0</td><td>0</td><td>&quot;http://busines…</td><td>&quot;&quot;</td><td>&quot;&quot;</td><td>&quot;&quot;</td><td>&quot;&quot;</td><td>&quot;&quot;</td><td>&quot;&quot;</td><td>&quot;&quot;</td><td>&quot;&quot;</td><td>&quot;&quot;</td><td>&quot;&quot;</td><td>&quot;&quot;</td><td>&quot;&quot;</td><td>&quot;&quot;</td><td>&quot;&quot;</td><td>&quot;&quot;</td><td>&quot;&quot;</td><td>&quot;&quot;</td><td>&quot;&quot;</td><td>&quot;&quot;</td><td>&quot;&quot;</td><td>&quot;02/04/2024&quot;</td><td>&quot;&quot;</td></tr><tr><td>&quot;?34 HALLAM ROA…</td><td>&quot;14079291&quot;</td><td>&quot;&quot;</td><td>&quot;&quot;</td><td>&quot;36 HALLAM ROAD…</td><td>&quot;&quot;</td><td>&quot;CLEVEDON&quot;</td><td>&quot;&quot;</td><td>&quot;ENGLAND&quot;</td><td>&quot;BS21 7SF&quot;</td><td>&quot;Private Limite…</td><td>&quot;Active&quot;</td><td>&quot;United Kingdom…</td><td>&quot;&quot;</td><td>&quot;29/04/2022&quot;</td><td>&quot;30&quot;</td><td>&quot;4&quot;</td><td>&quot;29/01/2024&quot;</td><td>&quot;&quot;</td><td>&quot;NO ACCOUNTS FI…</td><td>&quot;27/05/2023&quot;</td><td>&quot;&quot;</td><td>0</td><td>0</td><td>0</td><td>0</td><td>&quot;68320 - Manage…</td><td>&quot;&quot;</td><td>&quot;&quot;</td><td>&quot;&quot;</td><td>0</td><td>0</td><td>&quot;http://busines…</td><td>&quot;&quot;</td><td>&quot;&quot;</td><td>&quot;&quot;</td><td>&quot;&quot;</td><td>&quot;&quot;</td><td>&quot;&quot;</td><td>&quot;&quot;</td><td>&quot;&quot;</td><td>&quot;&quot;</td><td>&quot;&quot;</td><td>&quot;&quot;</td><td>&quot;&quot;</td><td>&quot;&quot;</td><td>&quot;&quot;</td><td>&quot;&quot;</td><td>&quot;&quot;</td><td>&quot;&quot;</td><td>&quot;&quot;</td><td>&quot;&quot;</td><td>&quot;&quot;</td><td>&quot;12/05/2024&quot;</td><td>&quot;28/04/2023&quot;</td></tr><tr><td>&quot;?ARTIS UK? LIM…</td><td>&quot;11044986&quot;</td><td>&quot;&quot;</td><td>&quot;&quot;</td><td>&quot;FLAT 5&quot;</td><td>&quot;5 BRIGHTON ROA…</td><td>&quot;SURBITON&quot;</td><td>&quot;&quot;</td><td>&quot;ENGLAND&quot;</td><td>&quot;KT6 5LX&quot;</td><td>&quot;Private Limite…</td><td>&quot;Active&quot;</td><td>&quot;United Kingdom…</td><td>&quot;&quot;</td><td>&quot;02/11/2017&quot;</td><td>&quot;30&quot;</td><td>&quot;11&quot;</td><td>&quot;31/08/2023&quot;</td><td>&quot;30/11/2021&quot;</td><td>&quot;TOTAL EXEMPTIO…</td><td>&quot;30/11/2018&quot;</td><td>&quot;&quot;</td><td>0</td><td>0</td><td>0</td><td>0</td><td>&quot;41201 - Constr…</td><td>&quot;&quot;</td><td>&quot;&quot;</td><td>&quot;&quot;</td><td>0</td><td>0</td><td>&quot;http://busines…</td><td>&quot;&quot;</td><td>&quot;&quot;</td><td>&quot;&quot;</td><td>&quot;&quot;</td><td>&quot;&quot;</td><td>&quot;&quot;</td><td>&quot;&quot;</td><td>&quot;&quot;</td><td>&quot;&quot;</td><td>&quot;&quot;</td><td>&quot;&quot;</td><td>&quot;&quot;</td><td>&quot;&quot;</td><td>&quot;&quot;</td><td>&quot;&quot;</td><td>&quot;&quot;</td><td>&quot;&quot;</td><td>&quot;&quot;</td><td>&quot;&quot;</td><td>&quot;&quot;</td><td>&quot;29/10/2023&quot;</td><td>&quot;15/10/2022&quot;</td></tr><tr><td>&quot;?BUCK?S? FARRI…</td><td>&quot;14889535&quot;</td><td>&quot;&quot;</td><td>&quot;&quot;</td><td>&quot;82A JAMES CART…</td><td>&quot;&quot;</td><td>&quot;MILDENHALL&quot;</td><td>&quot;SUFFOLK&quot;</td><td>&quot;UNITED KINGDOM…</td><td>&quot;IP28 7DE&quot;</td><td>&quot;Private Limite…</td><td>&quot;Active&quot;</td><td>&quot;United Kingdom…</td><td>&quot;&quot;</td><td>&quot;23/05/2023&quot;</td><td>&quot;31&quot;</td><td>&quot;5&quot;</td><td>&quot;23/02/2025&quot;</td><td>&quot;&quot;</td><td>&quot;NO ACCOUNTS FI…</td><td>&quot;20/06/2024&quot;</td><td>&quot;&quot;</td><td>0</td><td>0</td><td>0</td><td>0</td><td>&quot;01629 - Suppor…</td><td>&quot;&quot;</td><td>&quot;&quot;</td><td>&quot;&quot;</td><td>0</td><td>0</td><td>&quot;http://busines…</td><td>&quot;&quot;</td><td>&quot;&quot;</td><td>&quot;&quot;</td><td>&quot;&quot;</td><td>&quot;&quot;</td><td>&quot;&quot;</td><td>&quot;&quot;</td><td>&quot;&quot;</td><td>&quot;&quot;</td><td>&quot;&quot;</td><td>&quot;&quot;</td><td>&quot;&quot;</td><td>&quot;&quot;</td><td>&quot;&quot;</td><td>&quot;&quot;</td><td>&quot;&quot;</td><td>&quot;&quot;</td><td>&quot;&quot;</td><td>&quot;&quot;</td><td>&quot;&quot;</td><td>&quot;05/06/2024&quot;</td><td>&quot;&quot;</td></tr><tr><td>&quot;?IN THE WINGS?…</td><td>&quot;SC730133&quot;</td><td>&quot;&quot;</td><td>&quot;&quot;</td><td>&quot;1/2 31 CLOAN A…</td><td>&quot;&quot;</td><td>&quot;GLASGOW&quot;</td><td>&quot;&quot;</td><td>&quot;SCOTLAND&quot;</td><td>&quot;G15 6DB&quot;</td><td>&quot;Private Limite…</td><td>&quot;Active - Propo…</td><td>&quot;United Kingdom…</td><td>&quot;&quot;</td><td>&quot;20/04/2022&quot;</td><td>&quot;30&quot;</td><td>&quot;4&quot;</td><td>&quot;20/01/2024&quot;</td><td>&quot;&quot;</td><td>&quot;NO ACCOUNTS FI…</td><td>&quot;18/05/2023&quot;</td><td>&quot;&quot;</td><td>0</td><td>0</td><td>0</td><td>0</td><td>&quot;70229 - Manage…</td><td>&quot;&quot;</td><td>&quot;&quot;</td><td>&quot;&quot;</td><td>0</td><td>0</td><td>&quot;http://busines…</td><td>&quot;&quot;</td><td>&quot;&quot;</td><td>&quot;&quot;</td><td>&quot;&quot;</td><td>&quot;&quot;</td><td>&quot;&quot;</td><td>&quot;&quot;</td><td>&quot;&quot;</td><td>&quot;&quot;</td><td>&quot;&quot;</td><td>&quot;&quot;</td><td>&quot;&quot;</td><td>&quot;&quot;</td><td>&quot;&quot;</td><td>&quot;&quot;</td><td>&quot;&quot;</td><td>&quot;&quot;</td><td>&quot;&quot;</td><td>&quot;&quot;</td><td>&quot;&quot;</td><td>&quot;03/05/2023&quot;</td><td>&quot;&quot;</td></tr><tr><td>&quot;?NEIGH?OMI?S E…</td><td>&quot;11224854&quot;</td><td>&quot;&quot;</td><td>&quot;&quot;</td><td>&quot;37 YORK ROAD&quot;</td><td>&quot;ILFORD&quot;</td><td>&quot;ESSEX&quot;</td><td>&quot;&quot;</td><td>&quot;ENGLAND&quot;</td><td>&quot;IG1 3AD&quot;</td><td>&quot;Private Limite…</td><td>&quot;Active&quot;</td><td>&quot;United Kingdom…</td><td>&quot;&quot;</td><td>&quot;26/02/2018&quot;</td><td>&quot;28&quot;</td><td>&quot;2&quot;</td><td>&quot;30/11/2023&quot;</td><td>&quot;28/02/2022&quot;</td><td>&quot;DORMANT&quot;</td><td>&quot;26/03/2019&quot;</td><td>&quot;&quot;</td><td>0</td><td>0</td><td>0</td><td>0</td><td>&quot;52290 - Other …</td><td>&quot;&quot;</td><td>&quot;&quot;</td><td>&quot;&quot;</td><td>0</td><td>0</td><td>&quot;http://busines…</td><td>&quot;&quot;</td><td>&quot;&quot;</td><td>&quot;&quot;</td><td>&quot;&quot;</td><td>&quot;&quot;</td><td>&quot;&quot;</td><td>&quot;&quot;</td><td>&quot;&quot;</td><td>&quot;&quot;</td><td>&quot;&quot;</td><td>&quot;&quot;</td><td>&quot;&quot;</td><td>&quot;&quot;</td><td>&quot;&quot;</td><td>&quot;&quot;</td><td>&quot;&quot;</td><td>&quot;&quot;</td><td>&quot;&quot;</td><td>&quot;&quot;</td><td>&quot;&quot;</td><td>&quot;10/03/2024&quot;</td><td>&quot;25/02/2023&quot;</td></tr><tr><td>&quot;?Q-STAR TELENE…</td><td>&quot;SC655320&quot;</td><td>&quot;&quot;</td><td>&quot;&quot;</td><td>&quot;FLAT 1/2 21 RE…</td><td>&quot;RENFREW&quot;</td><td>&quot;RENFREWSHIRE&quot;</td><td>&quot;&quot;</td><td>&quot;SCOTLAND&quot;</td><td>&quot;PA4 8SG&quot;</td><td>&quot;Private Limite…</td><td>&quot;Active&quot;</td><td>&quot;United Kingdom…</td><td>&quot;&quot;</td><td>&quot;21/02/2020&quot;</td><td>&quot;29&quot;</td><td>&quot;2&quot;</td><td>&quot;30/11/2024&quot;</td><td>&quot;28/02/2023&quot;</td><td>&quot;DORMANT&quot;</td><td>&quot;21/03/2021&quot;</td><td>&quot;&quot;</td><td>0</td><td>0</td><td>0</td><td>0</td><td>&quot;61200 - Wirele…</td><td>&quot;61300 - Satell…</td><td>&quot;61900 - Other …</td><td>&quot;62090 - Other …</td><td>0</td><td>0</td><td>&quot;http://busines…</td><td>&quot;&quot;</td><td>&quot;&quot;</td><td>&quot;&quot;</td><td>&quot;&quot;</td><td>&quot;&quot;</td><td>&quot;&quot;</td><td>&quot;&quot;</td><td>&quot;&quot;</td><td>&quot;&quot;</td><td>&quot;&quot;</td><td>&quot;&quot;</td><td>&quot;&quot;</td><td>&quot;&quot;</td><td>&quot;&quot;</td><td>&quot;&quot;</td><td>&quot;&quot;</td><td>&quot;&quot;</td><td>&quot;&quot;</td><td>&quot;&quot;</td><td>&quot;&quot;</td><td>&quot;08/02/2024&quot;</td><td>&quot;25/01/2023&quot;</td></tr><tr><td>&quot;?SAIL IN GREEC…</td><td>&quot;09511422&quot;</td><td>&quot;&quot;</td><td>&quot;&quot;</td><td>&quot;INTERNATIONAL …</td><td>&quot;36-38 CORNHILL…</td><td>&quot;LONDON&quot;</td><td>&quot;LONDON&quot;</td><td>&quot;ENGLAND&quot;</td><td>&quot;EC3V 3NG&quot;</td><td>&quot;Private Limite…</td><td>&quot;Active&quot;</td><td>&quot;United Kingdom…</td><td>&quot;&quot;</td><td>&quot;26/03/2015&quot;</td><td>&quot;31&quot;</td><td>&quot;3&quot;</td><td>&quot;31/12/2023&quot;</td><td>&quot;31/03/2022&quot;</td><td>&quot;TOTAL EXEMPTIO…</td><td>&quot;23/04/2017&quot;</td><td>&quot;26/03/2016&quot;</td><td>0</td><td>0</td><td>0</td><td>0</td><td>&quot;79120 - Tour o…</td><td>&quot;&quot;</td><td>&quot;&quot;</td><td>&quot;&quot;</td><td>0</td><td>0</td><td>&quot;http://busines…</td><td>&quot;&quot;</td><td>&quot;&quot;</td><td>&quot;&quot;</td><td>&quot;&quot;</td><td>&quot;&quot;</td><td>&quot;&quot;</td><td>&quot;&quot;</td><td>&quot;&quot;</td><td>&quot;&quot;</td><td>&quot;&quot;</td><td>&quot;&quot;</td><td>&quot;&quot;</td><td>&quot;&quot;</td><td>&quot;&quot;</td><td>&quot;&quot;</td><td>&quot;&quot;</td><td>&quot;&quot;</td><td>&quot;&quot;</td><td>&quot;&quot;</td><td>&quot;&quot;</td><td>&quot;09/04/2024&quot;</td><td>&quot;26/03/2023&quot;</td></tr><tr><td>&quot;?THE GREENHOUS…</td><td>&quot;11457383&quot;</td><td>&quot;&quot;</td><td>&quot;&quot;</td><td>&quot;IRONMASTER HOU…</td><td>&quot;WYLE COP&quot;</td><td>&quot;SHREWSBURY&quot;</td><td>&quot;SHROPSHIRE&quot;</td><td>&quot;ENGLAND&quot;</td><td>&quot;SY1 1XF&quot;</td><td>&quot;Private Limite…</td><td>&quot;Active&quot;</td><td>&quot;United Kingdom…</td><td>&quot;&quot;</td><td>&quot;10/07/2018&quot;</td><td>&quot;31&quot;</td><td>&quot;7&quot;</td><td>&quot;30/04/2024&quot;</td><td>&quot;31/07/2022&quot;</td><td>&quot;MICRO ENTITY&quot;</td><td>&quot;07/08/2019&quot;</td><td>&quot;&quot;</td><td>0</td><td>0</td><td>0</td><td>0</td><td>&quot;56101 - Licens…</td><td>&quot;&quot;</td><td>&quot;&quot;</td><td>&quot;&quot;</td><td>0</td><td>0</td><td>&quot;http://busines…</td><td>&quot;&quot;</td><td>&quot;&quot;</td><td>&quot;&quot;</td><td>&quot;&quot;</td><td>&quot;&quot;</td><td>&quot;&quot;</td><td>&quot;&quot;</td><td>&quot;&quot;</td><td>&quot;&quot;</td><td>&quot;&quot;</td><td>&quot;&quot;</td><td>&quot;&quot;</td><td>&quot;&quot;</td><td>&quot;&quot;</td><td>&quot;&quot;</td><td>&quot;&quot;</td><td>&quot;&quot;</td><td>&quot;&quot;</td><td>&quot;&quot;</td><td>&quot;&quot;</td><td>&quot;06/07/2024&quot;</td><td>&quot;22/06/2023&quot;</td></tr><tr><td>&quot;?UGUR-97? FIRM…</td><td>&quot;13707057&quot;</td><td>&quot;&quot;</td><td>&quot;&quot;</td><td>&quot;60 BROMPTON RO…</td><td>&quot;&quot;</td><td>&quot;LONDON&quot;</td><td>&quot;&quot;</td><td>&quot;UNITED KINGDOM…</td><td>&quot;SW3 1BW&quot;</td><td>&quot;Private Limite…</td><td>&quot;Active&quot;</td><td>&quot;United Kingdom…</td><td>&quot;&quot;</td><td>&quot;27/10/2021&quot;</td><td>&quot;31&quot;</td><td>&quot;10&quot;</td><td>&quot;27/07/2023&quot;</td><td>&quot;&quot;</td><td>&quot;NO ACCOUNTS FI…</td><td>&quot;24/11/2022&quot;</td><td>&quot;&quot;</td><td>0</td><td>0</td><td>0</td><td>0</td><td>&quot;68100 - Buying…</td><td>&quot;&quot;</td><td>&quot;&quot;</td><td>&quot;&quot;</td><td>0</td><td>0</td><td>&quot;http://busines…</td><td>&quot;&quot;</td><td>&quot;&quot;</td><td>&quot;&quot;</td><td>&quot;&quot;</td><td>&quot;&quot;</td><td>&quot;&quot;</td><td>&quot;&quot;</td><td>&quot;&quot;</td><td>&quot;&quot;</td><td>&quot;&quot;</td><td>&quot;&quot;</td><td>&quot;&quot;</td><td>&quot;&quot;</td><td>&quot;&quot;</td><td>&quot;&quot;</td><td>&quot;&quot;</td><td>&quot;&quot;</td><td>&quot;&quot;</td><td>&quot;&quot;</td><td>&quot;&quot;</td><td>&quot;09/11/2023&quot;</td><td>&quot;26/10/2022&quot;</td></tr><tr><td>&quot;? RECYCLING LI…</td><td>&quot;04528854&quot;</td><td>&quot;&quot;</td><td>&quot;&quot;</td><td>&quot;CARDINGTON POI…</td><td>&quot;TELFORD WAY&quot;</td><td>&quot;BEDFORD&quot;</td><td>&quot;&quot;</td><td>&quot;ENGLAND&quot;</td><td>&quot;MK42 0PQ&quot;</td><td>&quot;Private Limite…</td><td>&quot;Active&quot;</td><td>&quot;United Kingdom…</td><td>&quot;&quot;</td><td>&quot;06/09/2002&quot;</td><td>&quot;31&quot;</td><td>&quot;12&quot;</td><td>&quot;30/09/2023&quot;</td><td>&quot;31/12/2021&quot;</td><td>&quot;AUDIT EXEMPTIO…</td><td>&quot;04/10/2016&quot;</td><td>&quot;06/09/2015&quot;</td><td>0</td><td>0</td><td>0</td><td>0</td><td>&quot;99999 - Dorman…</td><td>&quot;&quot;</td><td>&quot;&quot;</td><td>&quot;&quot;</td><td>0</td><td>0</td><td>&quot;http://busines…</td><td>&quot;&quot;</td><td>&quot;&quot;</td><td>&quot;&quot;</td><td>&quot;&quot;</td><td>&quot;&quot;</td><td>&quot;&quot;</td><td>&quot;&quot;</td><td>&quot;&quot;</td><td>&quot;&quot;</td><td>&quot;&quot;</td><td>&quot;&quot;</td><td>&quot;&quot;</td><td>&quot;&quot;</td><td>&quot;&quot;</td><td>&quot;&quot;</td><td>&quot;&quot;</td><td>&quot;&quot;</td><td>&quot;&quot;</td><td>&quot;&quot;</td><td>&quot;&quot;</td><td>&quot;18/06/2024&quot;</td><td>&quot;04/06/2023&quot;</td></tr><tr><td>&quot;?URO IMPORTS L…</td><td>&quot;08182582&quot;</td><td>&quot;&quot;</td><td>&quot;&quot;</td><td>&quot;414-416 BLACKP…</td><td>&quot;ASHTON-ON-RIBB…</td><td>&quot;PRESTON&quot;</td><td>&quot;&quot;</td><td>&quot;&quot;</td><td>&quot;PR2 2DX&quot;</td><td>&quot;Private Limite…</td><td>&quot;Active&quot;</td><td>&quot;United Kingdom…</td><td>&quot;&quot;</td><td>&quot;16/08/2012&quot;</td><td>&quot;31&quot;</td><td>&quot;3&quot;</td><td>&quot;31/12/2023&quot;</td><td>&quot;31/03/2022&quot;</td><td>&quot;MICRO ENTITY&quot;</td><td>&quot;14/11/2016&quot;</td><td>&quot;17/10/2015&quot;</td><td>0</td><td>0</td><td>0</td><td>0</td><td>&quot;46160 - Agents…</td><td>&quot;&quot;</td><td>&quot;&quot;</td><td>&quot;&quot;</td><td>0</td><td>0</td><td>&quot;http://busines…</td><td>&quot;&quot;</td><td>&quot;&quot;</td><td>&quot;&quot;</td><td>&quot;&quot;</td><td>&quot;&quot;</td><td>&quot;&quot;</td><td>&quot;&quot;</td><td>&quot;&quot;</td><td>&quot;&quot;</td><td>&quot;&quot;</td><td>&quot;&quot;</td><td>&quot;&quot;</td><td>&quot;&quot;</td><td>&quot;&quot;</td><td>&quot;&quot;</td><td>&quot;&quot;</td><td>&quot;&quot;</td><td>&quot;&quot;</td><td>&quot;&quot;</td><td>&quot;&quot;</td><td>&quot;28/08/2023&quot;</td><td>&quot;14/08/2022&quot;</td></tr></tbody></table></div>"
      ],
      "text/plain": [
       "shape: (5_381_225, 55)\n",
       "┌───────────┬───────────┬───────────┬───────────┬───┬───────────┬───────────┬───────────┬──────────┐\n",
       "│ CompanyNa ┆ company_n ┆ RegAddres ┆ RegAddres ┆ … ┆ PreviousN ┆ PreviousN ┆ ConfStmtN ┆ ConfStmt │\n",
       "│ me        ┆ umber     ┆ s.CareOf  ┆ s.POBox   ┆   ┆ ame_10.CO ┆ ame_10.Co ┆ extDueDat ┆ LastMade │\n",
       "│ ---       ┆ ---       ┆ ---       ┆ ---       ┆   ┆ NDATE     ┆ mpanyName ┆ e         ┆ UpDate   │\n",
       "│ str       ┆ str       ┆ str       ┆ str       ┆   ┆ ---       ┆ ---       ┆ ---       ┆ ---      │\n",
       "│           ┆           ┆           ┆           ┆   ┆ str       ┆ str       ┆ str       ┆ str      │\n",
       "╞═══════════╪═══════════╪═══════════╪═══════════╪═══╪═══════════╪═══════════╪═══════════╪══════════╡\n",
       "│ ! HEAL UR ┆ 14413082  ┆           ┆           ┆ … ┆           ┆           ┆ 25/10/202 ┆          │\n",
       "│ TECH LTD  ┆           ┆           ┆           ┆   ┆           ┆           ┆ 3         ┆          │\n",
       "│ ! LTD     ┆ 08209948  ┆           ┆           ┆ … ┆           ┆           ┆ 25/09/202 ┆ 11/09/20 │\n",
       "│           ┆           ┆           ┆           ┆   ┆           ┆           ┆ 3         ┆ 22       │\n",
       "│ !? LTD    ┆ 11399177  ┆           ┆           ┆ … ┆           ┆           ┆ 19/06/202 ┆ 05/06/20 │\n",
       "│           ┆           ┆           ┆           ┆   ┆           ┆           ┆ 4         ┆ 23       │\n",
       "│ !BIG      ┆ 11743365  ┆           ┆           ┆ … ┆           ┆           ┆ 10/01/202 ┆ 27/12/20 │\n",
       "│ IMPACT    ┆           ┆           ┆           ┆   ┆           ┆           ┆ 4         ┆ 22       │\n",
       "│ GRAPHICS  ┆           ┆           ┆           ┆   ┆           ┆           ┆           ┆          │\n",
       "│ LIMITED   ┆           ┆           ┆           ┆   ┆           ┆           ┆           ┆          │\n",
       "│ …         ┆ …         ┆ …         ┆ …         ┆ … ┆ …         ┆ …         ┆ …         ┆ …        │\n",
       "│ ?THE GREE ┆ 11457383  ┆           ┆           ┆ … ┆           ┆           ┆ 06/07/202 ┆ 22/06/20 │\n",
       "│ NHOUSE?   ┆           ┆           ┆           ┆   ┆           ┆           ┆ 4         ┆ 23       │\n",
       "│ COMPANY   ┆           ┆           ┆           ┆   ┆           ┆           ┆           ┆          │\n",
       "│ LTD       ┆           ┆           ┆           ┆   ┆           ┆           ┆           ┆          │\n",
       "│ ?UGUR-97? ┆ 13707057  ┆           ┆           ┆ … ┆           ┆           ┆ 09/11/202 ┆ 26/10/20 │\n",
       "│ FIRMASI   ┆           ┆           ┆           ┆   ┆           ┆           ┆ 3         ┆ 22       │\n",
       "│ LTD       ┆           ┆           ┆           ┆   ┆           ┆           ┆           ┆          │\n",
       "│ ?         ┆ 04528854  ┆           ┆           ┆ … ┆           ┆           ┆ 18/06/202 ┆ 04/06/20 │\n",
       "│ RECYCLING ┆           ┆           ┆           ┆   ┆           ┆           ┆ 4         ┆ 23       │\n",
       "│ LIMITED   ┆           ┆           ┆           ┆   ┆           ┆           ┆           ┆          │\n",
       "│ ?URO      ┆ 08182582  ┆           ┆           ┆ … ┆           ┆           ┆ 28/08/202 ┆ 14/08/20 │\n",
       "│ IMPORTS   ┆           ┆           ┆           ┆   ┆           ┆           ┆ 3         ┆ 22       │\n",
       "│ LIMITED   ┆           ┆           ┆           ┆   ┆           ┆           ┆           ┆          │\n",
       "└───────────┴───────────┴───────────┴───────────┴───┴───────────┴───────────┴───────────┴──────────┘"
      ]
     },
     "execution_count": 5,
     "metadata": {},
     "output_type": "execute_result"
    }
   ],
   "source": [
    "comp_df"
   ]
  },
  {
   "cell_type": "code",
   "execution_count": 10,
   "id": "05fc267c",
   "metadata": {},
   "outputs": [
    {
     "name": "stdout",
     "output_type": "stream",
     "text": [
      "Creating 'individuals' table...\n",
      "'individuals' table created successfully in 42.497090578079224 seconds!\n",
      "Creating 'companies' table...\n",
      "'companies' table created successfully in 34.162612199783325 seconds!\n",
      "Creating 'addresses' table...\n",
      "'addresses' table created successfully in 11.942702293395996 seconds!\n",
      "Creating 'PersonCompanyLink' table...\n",
      "'PersonCompanyLink' table created successfully in 73.65449738502502 seconds!\n",
      "Creating 'PersonAddressLink' table...\n",
      "'PersonAddressLink' table created successfully in 90.02910661697388 seconds!\n",
      "Database creation process completed!\n"
     ]
    }
   ],
   "source": [
    "def create_sqlite_db_from_df(psc_df, companies_df, db_path):\n",
    "    connection_string = f\"sqlite:///{db_path}\"\n",
    "    \n",
    "    # Replace all periods in column names with underscores\n",
    "    psc_df = psc_df.rename({'date_of_birth.month': 'date_of_birth_month',\n",
    "                            'date_of_birth.year': 'date_of_birth_year',\n",
    "                            'address.address_line_1': 'address_line_1',\n",
    "                            'address.postal_code': 'postal_code'})\n",
    "    \n",
    "    companies_df = companies_df.rename({\"CompanyName\": \"company_name\"})\n",
    "    \n",
    "    # Create Persons table\n",
    "    start_time = time.time()\n",
    "    print(\"Creating 'individuals' table...\")\n",
    "    persons_df = psc_df.select(['name', 'date_of_birth_month', 'date_of_birth_year']).unique()\n",
    "    persons_df.write_database(\"individuals\", connection_string, if_exists='replace')\n",
    "    print(\"'individuals' table created successfully in\", time.time() - start_time, \"seconds!\")\n",
    "\n",
    "    # Create Companies table\n",
    "    start_time = time.time()\n",
    "    print(\"Creating 'companies' table...\")\n",
    "    companies_df = companies_df.rename({\n",
    "        \"RegAddress.AddressLine1\": \"address_line_1\",\n",
    "        \"RegAddress.PostCode\": \"postal_code\"\n",
    "    }).select([\"company_number\", \"company_name\", \"address_line_1\", \"postal_code\"])\n",
    "    companies_df.write_database(\"companies\", connection_string, if_exists='replace')\n",
    "    print(\"'companies' table created successfully in\", time.time() - start_time, \"seconds!\")\n",
    "\n",
    "    # Create Addresses table\n",
    "    start_time = time.time()\n",
    "    print(\"Creating 'addresses' table...\")\n",
    "    addresses_df = psc_df.select(['address_line_1', 'postal_code']).unique()\n",
    "    addresses_df.write_database(\"addresses\", connection_string, if_exists='replace')\n",
    "    print(\"'addresses' table created successfully in\", time.time() - start_time, \"seconds!\")\n",
    "\n",
    "    # Create PersonCompanyLink table\n",
    "    start_time = time.time()\n",
    "    print(\"Creating 'PersonCompanyLink' table...\")\n",
    "    person_company_df = psc_df.select([\"name\", \"date_of_birth_month\", \"date_of_birth_year\", \"company_number\"])\n",
    "    person_company_df.write_database(\"PersonCompanyLink\", connection_string, if_exists='replace')\n",
    "    print(\"'PersonCompanyLink' table created successfully in\", time.time() - start_time, \"seconds!\")\n",
    "\n",
    "    # Create PersonAddressLink table\n",
    "    start_time = time.time()\n",
    "    print(\"Creating 'PersonAddressLink' table...\")\n",
    "    person_address_df = psc_df.select([\"name\", \"date_of_birth_month\", \"date_of_birth_year\", 'address_line_1', 'postal_code'])\n",
    "    person_address_df.write_database(\"PersonAddressLink\", connection_string, if_exists='replace')\n",
    "    print(\"'PersonAddressLink' table created successfully in\", time.time() - start_time, \"seconds!\")\n",
    "\n",
    "    print(\"Database creation process completed!\")\n",
    "\n",
    "\n",
    "create_sqlite_db_from_df(psc_df, comp_df, \"companies_house.db\")\n"
   ]
  },
  {
   "cell_type": "code",
   "execution_count": 11,
   "id": "5df2ca10",
   "metadata": {},
   "outputs": [
    {
     "name": "stdout",
     "output_type": "stream",
     "text": [
      "{'individuals': ['name', 'date_of_birth_month', 'date_of_birth_year'], 'companies': ['company_number', 'company_name', 'address_line_1', 'postal_code'], 'addresses': ['address_line_1', 'postal_code'], 'PersonCompanyLink': ['name', 'date_of_birth_month', 'date_of_birth_year', 'company_number'], 'PersonAddressLink': ['name', 'date_of_birth_month', 'date_of_birth_year', 'address_line_1', 'postal_code']}\n"
     ]
    }
   ],
   "source": [
    "def get_columns_of_all_tables(db_path):\n",
    "    engine = create_engine(f\"sqlite:///{db_path}\")\n",
    "    conn = engine.connect()\n",
    "\n",
    "    # Get list of all tables in the database\n",
    "    tables = conn.execute(\"SELECT name FROM sqlite_master WHERE type='table'\").fetchall()\n",
    "\n",
    "    table_columns = {}\n",
    "\n",
    "    for table in tables:\n",
    "        table_name = table[0]\n",
    "        columns = conn.execute(f\"PRAGMA table_info({table_name})\").fetchall()\n",
    "        column_names = [column[1] for column in columns]\n",
    "        table_columns[table_name] = column_names\n",
    "\n",
    "    conn.close()\n",
    "    return table_columns\n",
    "\n",
    "db_path = \"companies_house.db\"\n",
    "print(get_columns_of_all_tables(db_path))"
   ]
  },
  {
   "cell_type": "code",
   "execution_count": 12,
   "id": "d973cb65",
   "metadata": {},
   "outputs": [
    {
     "name": "stdout",
     "output_type": "stream",
     "text": [
      "Indices added successfully!\n",
      "FTS created successfully!\n",
      "Database optimized successfully!\n"
     ]
    }
   ],
   "source": [
    "def add_indices_to_db(db_path):\n",
    "    engine = create_engine(f\"sqlite:///{db_path}\")\n",
    "\n",
    "    # individuals table indices\n",
    "    engine.execute(\"CREATE INDEX idx_individual ON individuals(name, date_of_birth_month, date_of_birth_year)\")\n",
    "\n",
    "    # companies table indices\n",
    "    engine.execute(\"CREATE INDEX idx_company_number ON companies(company_number)\")\n",
    "\n",
    "    # addresses table indices\n",
    "    engine.execute(\"CREATE INDEX idx_address ON addresses(address_line_1, postal_code)\")\n",
    "\n",
    "    # PersonCompanyLink table indices\n",
    "    engine.execute(\"CREATE INDEX idx_person_on_link ON PersonCompanyLink(name, date_of_birth_month, date_of_birth_year)\")\n",
    "    engine.execute(\"CREATE INDEX idx_company_on_link ON PersonCompanyLink(company_number)\")\n",
    "\n",
    "    # PersonAddressLink table indices\n",
    "    engine.execute(\"CREATE INDEX idx_person_on_address_link ON PersonAddressLink(name, date_of_birth_month, date_of_birth_year)\")\n",
    "    engine.execute(\"CREATE INDEX idx_address_on_person_link ON PersonAddressLink(address_line_1, postal_code)\")\n",
    "\n",
    "    print(\"Indices added successfully!\")\n",
    "    \n",
    "def add_fts_to_db(db_path):\n",
    "    engine = create_engine(f\"sqlite:///{db_path}\")\n",
    "    \n",
    "    # Create the FTS table for company names\n",
    "    engine.execute(\"\"\"\n",
    "    CREATE VIRTUAL TABLE IF NOT EXISTS companies_name_search \n",
    "    USING fts5(company_name, company_number UNINDEXED);\n",
    "    \"\"\")\n",
    "    \n",
    "    # Insert company names and numbers into the FTS table\n",
    "    engine.execute(\"\"\"\n",
    "    INSERT INTO companies_name_search(company_name, company_number) \n",
    "    SELECT company_name, company_number FROM companies;\n",
    "    \"\"\")\n",
    "    \n",
    "    print(\"FTS created successfully!\")\n",
    "\n",
    "def optimize_db(db_path):\n",
    "    engine = create_engine(f\"sqlite:///{db_path}\")\n",
    "\n",
    "    # Apply the configurations\n",
    "    engine.execute(\"PRAGMA journal_mode = delete;\")\n",
    "    engine.execute(\"PRAGMA page_size = 1024;\")\n",
    "\n",
    "    # Optimize the FTS table\n",
    "    engine.execute(\"INSERT INTO companies_name_search(companies_name_search) VALUES ('optimize');\")\n",
    "\n",
    "    # Vacuum the database\n",
    "    engine.execute(\"VACUUM;\")\n",
    "\n",
    "    print(\"Database optimized successfully!\")\n",
    "\n",
    "add_indices_to_db(\"companies_house.db\")\n",
    "add_fts_to_db(\"companies_house.db\")\n",
    "optimize_db(\"companies_house.db\")"
   ]
  },
  {
   "cell_type": "raw",
   "id": "f5bea7a3",
   "metadata": {},
   "source": [
    "!bash create_db.sh companies_house.db companies_db/"
   ]
  }
 ],
 "metadata": {
  "kernelspec": {
   "display_name": "Python 3 (ipykernel)",
   "language": "python",
   "name": "python3"
  },
  "language_info": {
   "codemirror_mode": {
    "name": "ipython",
    "version": 3
   },
   "file_extension": ".py",
   "mimetype": "text/x-python",
   "name": "python",
   "nbconvert_exporter": "python",
   "pygments_lexer": "ipython3",
   "version": "3.9.12"
  }
 },
 "nbformat": 4,
 "nbformat_minor": 5
}
